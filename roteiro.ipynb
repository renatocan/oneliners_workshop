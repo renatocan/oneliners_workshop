{
 "cells": [
  {
   "cell_type": "markdown",
   "id": "6735fe6c-8763-4c72-a77c-64d98f642906",
   "metadata": {},
   "source": [
    "# one-liners em shell"
   ]
  },
  {
   "cell_type": "markdown",
   "id": "a529d7f9-7cc3-4c78-be5b-e1a98705e3bd",
   "metadata": {},
   "source": [
    "- **one-liner**: Programa de uma única linha\n",
    "\n",
    "- No contexto de shell, são programas que a gente desenvolve rapidamente para concluir uma determinada tarefa. Depois de usados, são jogados fora.\n",
    "\n",
    "- São muito úteis para realizar tarefas de manipulação de arquivos e diretórios, especialmente quando combinados com conceitos de expressões regulares."
   ]
  },
  {
   "cell_type": "markdown",
   "id": "19ac935b-8423-4455-aa8e-2e9e74f00f6c",
   "metadata": {},
   "source": [
    "# Filosofia Unix"
   ]
  },
  {
   "cell_type": "markdown",
   "id": "f25cf7bb-d43d-4832-8230-da3e7bf0599b",
   "metadata": {},
   "source": [
    "Unix philosophy - Wikipedia https://en.m.wikipedia.org/wiki/Unix_philosophy\n",
    "\n",
    "- Escreva programas que façam apenas uma coisa, mas que a façam bem feita.\n",
    "- Escreva programas que trabalhem juntos.\n",
    "- Escreva programas que manipulem streams de texto, pois esta é uma interface universal.\n",
    "\n",
    "- É muito simples encadear programas:"
   ]
  },
  {
   "cell_type": "markdown",
   "id": "0d5407d0-c441-470f-9c16-8c3f44a5d4c8",
   "metadata": {},
   "source": [
    "```\n",
    "$ ls\n",
    "Brasil55.txt  Espanha34.txt  Italia39.txt  Malta356.txt\n",
    "\n",
    "$ ls | wc -l                 \n",
    "4\n",
    "```"
   ]
  },
  {
   "cell_type": "markdown",
   "id": "2e6cc71a-7f1d-42c7-b782-34d16eae97b5",
   "metadata": {},
   "source": [
    "# Exemplo de aplicação: processar arquivo de texto:"
   ]
  },
  {
   "cell_type": "markdown",
   "id": "0bd1f96a-d455-4100-a6e5-08338eab9ed9",
   "metadata": {},
   "source": [
    "![title](./exemplo_1.png)"
   ]
  },
  {
   "cell_type": "markdown",
   "id": "f47c5f39-846c-4617-a9d5-d7075094072c",
   "metadata": {},
   "source": [
    "# Outro exemplo de aplicação: organizar arquivos"
   ]
  },
  {
   "cell_type": "markdown",
   "id": "d781009a-1448-42be-8eb4-c4179d11cd7b",
   "metadata": {},
   "source": [
    "![title](./exerc_4.png)"
   ]
  },
  {
   "cell_type": "markdown",
   "id": "f428a802-ca7a-43a5-bc76-75f82784adb2",
   "metadata": {},
   "source": [
    "# \"Ingredientes\":\n",
    "\n",
    "- Comandos:\n",
    "  - `tr`\n",
    "  - `seq`\n",
    "  - `paste` \n",
    "  - `cut`\n",
    "  - `sed`\n",
    "\n",
    "- Redirecionamento de entrada e saída\n",
    "  - `>`\n",
    "  - `|`\n",
    "  - `<()`\n",
    "\n",
    "- Expressões regulares"
   ]
  },
  {
   "cell_type": "markdown",
   "id": "7ff1a7e3-c486-47b1-98cb-cad73a29fc04",
   "metadata": {},
   "source": [
    "# `tr` - \"troca\" caracteres"
   ]
  },
  {
   "cell_type": "markdown",
   "id": "622e2e56-11a0-4098-a9fd-a624f48ff45c",
   "metadata": {},
   "source": [
    "```\n",
    "$ cat arquivo1.txt         \n",
    "Guatemala\n",
    "Fiji\n",
    "Venezuela\n",
    "Argentina\n",
    "Suriname\n",
    "```"
   ]
  },
  {
   "cell_type": "markdown",
   "id": "02582adb-a539-44aa-a519-6fab3e25a228",
   "metadata": {},
   "source": [
    "```\n",
    "# Pipe: |\n",
    "# encaminha a saída de um comando para outro\n",
    "\n",
    "$ cat arquivo1.txt | tr a A\n",
    "GuAtemAlA\n",
    "Fiji\n",
    "VenezuelA\n",
    "ArgentinA\n",
    "SurinAme\n",
    "```"
   ]
  },
  {
   "cell_type": "markdown",
   "id": "fa63fa5b-ec68-4861-9ee0-a7b4f5526071",
   "metadata": {
    "jp-MarkdownHeadingCollapsed": true
   },
   "source": [
    "```\n",
    "# Troca letras minúsculas por maiúsculas\n",
    "\n",
    "$ cat arquivo1.txt | tr a-z A-Z          \n",
    "GUATEMALA\n",
    "FIJI\n",
    "VENEZUELA\n",
    "ARGENTINA\n",
    "SURINAME\n",
    "```"
   ]
  },
  {
   "cell_type": "markdown",
   "id": "5b54745e-36f8-496f-98f3-ac470a5fe750",
   "metadata": {},
   "source": [
    "```\n",
    "# Troca letras minúsculas por maiúsculas\n",
    "\n",
    "$ cat arquivo1.txt | tr [:lower:] [:upper:]\n",
    "GUATEMALA\n",
    "FIJI\n",
    "VENEZUELA\n",
    "ARGENTINA\n",
    "SURINAME\n",
    "```"
   ]
  },
  {
   "cell_type": "markdown",
   "id": "82c4fab5-b25d-4172-8791-e1b866e3f95f",
   "metadata": {},
   "source": [
    "# `seq` - mostra uma sequência de números"
   ]
  },
  {
   "cell_type": "markdown",
   "id": "dc1772d6-8d60-423a-805c-cf22c5ada1c1",
   "metadata": {},
   "source": [
    "```\n",
    "$ seq 12\n",
    "1\n",
    "2\n",
    "3\n",
    "4\n",
    "5\n",
    "6\n",
    "7\n",
    "8\n",
    "9\n",
    "10\n",
    "11\n",
    "12\n",
    "```"
   ]
  },
  {
   "cell_type": "markdown",
   "id": "f39e1697-2087-44f3-8848-5e25a4e34a91",
   "metadata": {},
   "source": [
    "```\n",
    "# Largura constante\n",
    "\n",
    "$ seq -w 12\n",
    "01\n",
    "02\n",
    "03\n",
    "04\n",
    "05\n",
    "06\n",
    "07\n",
    "08\n",
    "09\n",
    "10\n",
    "11\n",
    "12\n",
    "```"
   ]
  },
  {
   "cell_type": "markdown",
   "id": "8016659d-bb7e-4e77-94ec-9050ccbc5b60",
   "metadata": {},
   "source": [
    "# `paste` - junta linhas de arquivos"
   ]
  },
  {
   "cell_type": "markdown",
   "id": "d79b5a30-0ae6-4997-9d0b-b80cc76aec77",
   "metadata": {},
   "source": [
    "```\n",
    "# Delimitador padrão é o tab\n",
    "\n",
    "$ cat arquivo1.txt \n",
    "Guatemala\n",
    "Fiji\n",
    "Venezuela\n",
    "Argentina\n",
    "Suriname\n",
    "\n",
    "$ cat arquivo2.txt \n",
    "1\n",
    "2\n",
    "3\n",
    "4\n",
    "5\n",
    "\n",
    "$ paste arquivo1.txt arquivo2.txt \n",
    "Guatemala\t1\n",
    "Fiji\t2\n",
    "Venezuela\t3\n",
    "Argentina\t4\n",
    "Suriname\t5\n",
    "```"
   ]
  },
  {
   "cell_type": "markdown",
   "id": "bce61489-a5fe-4703-b389-98449270b6a8",
   "metadata": {},
   "source": [
    "```\n",
    "# Alterando o delimitador com -d\n",
    "\n",
    "$ paste -d \" \" arquivo1.txt arquivo2.txt \n",
    "Guatemala 1\n",
    "Fiji 2\n",
    "Venezuela 3\n",
    "Argentina 4\n",
    "Suriname 5\n",
    "```"
   ]
  },
  {
   "cell_type": "markdown",
   "id": "65e129fd-d1ff-4ce5-be70-b230b6ecf36f",
   "metadata": {},
   "source": [
    "```\n",
    "# É possível usar <() para incluir a saída de um comando no lugar do arquivo de entrada\n",
    "\n",
    "$ paste <(cat arquivo1.txt) <(seq 5)\n",
    "Guatemala\t1\n",
    "Fiji\t2\n",
    "Venezuela\t3\n",
    "Argentina\t4\n",
    "Suriname\t5\n",
    "```"
   ]
  },
  {
   "cell_type": "markdown",
   "id": "362f5a08-3c43-42bb-b356-418c7b17a410",
   "metadata": {},
   "source": [
    "# `cut` - \"Corta\" colunas de arquivos de texto"
   ]
  },
  {
   "cell_type": "markdown",
   "id": "9efff4ba-8e9d-498e-b4a5-d38c01354f19",
   "metadata": {},
   "source": [
    "```\n",
    "$ cat arquivo3.txt \n",
    "Guatemala;1\n",
    "Fiji;2\n",
    "Venezuela;3\n",
    "Argentina;4\n",
    "Suriname;5\n",
    "\n",
    "$ cut -c1-3 arquivo3.txt \n",
    "Gua\n",
    "Fij\n",
    "Ven\n",
    "Arg\n",
    "Sur\n",
    "```"
   ]
  },
  {
   "cell_type": "markdown",
   "id": "699fefde-9e80-4073-9667-05d234c1c6aa",
   "metadata": {},
   "source": [
    "```\n",
    "# Separando campos identificados por delimitador com -d e -f\n",
    "\n",
    "$ cut -d\";\" -f1 arquivo3.txt \n",
    "Guatemala\n",
    "Fiji\n",
    "Venezuela\n",
    "Argentina\n",
    "Suriname\n",
    "\n",
    "$ cut -d\";\" -f2 arquivo3.txt \n",
    "1\n",
    "2\n",
    "3\n",
    "4\n",
    "5\n",
    "```"
   ]
  },
  {
   "cell_type": "markdown",
   "id": "fbcfb7e8-4fee-45cc-9c3e-68b8fd5785a4",
   "metadata": {},
   "source": [
    "# Exemplo 1\n",
    "\n",
    "O arquivo `countries.txt` contém uma lista de países. Use um one-liner para gerar um arquivo CSV com a lista de países e uma coluna adicional com a numeração das linhas, como mostrado:\n",
    "\n",
    "![title](./exemplo_1.png)\n",
    "\n",
    "# Estratégia:\n",
    "\n",
    "- Gerar a lista de números\n",
    "- Juntar a lista de números com o conteúdo do arquivo usando o separador `,`"
   ]
  },
  {
   "cell_type": "markdown",
   "id": "b6cb3ec3-ea4f-4d7e-81fe-95149ca9a0f9",
   "metadata": {},
   "source": [
    "```\n",
    "$ cat countries.txt | wc -l\n",
    "196\n",
    "\n",
    "# Gerar lista de números\n",
    "$ seq 196\n",
    "\n",
    "# Juntar lista de números com o conteúdo do arquivo usando o separador `,`\n",
    "$ paste -d \",\" <(seq 196) <(cat countries.txt)\n",
    "1,Brunei\n",
    "2,Chile\n",
    "3,Guatemala\n",
    "4,Fiji\n",
    "5,Venezuela\n",
    "6,Argentina\n",
    "7,South Africa\n",
    "8,Suriname\n",
    "9,Malawi\n",
    "10,Palau\n",
    "11,Chad\n",
    "12,Hungary\n",
    "(...)\n",
    "\n",
    "$ paste -d \",\" <(seq 196) <(cat countries.txt) > exemplo_1.csv\n",
    "```"
   ]
  },
  {
   "cell_type": "markdown",
   "id": "ca689681-c10a-4fbe-ab91-28017e7e5b75",
   "metadata": {},
   "source": [
    "# Exercício 1\n",
    "\n",
    "a) Repetir o Exemplo 1, colocando os nomes em ordem alfabética\n",
    "- `sort` coloca linhas de um arquivo em ordem alfabética\n",
    "\n",
    "b) Repetir o Exemplo 1, colocando os nomes em ordem alfabética e convertendo o texto todo para letra minúscula"
   ]
  },
  {
   "cell_type": "markdown",
   "id": "f1b775b6-73ec-4d07-9ff9-a1e1abb01788",
   "metadata": {},
   "source": [
    "# Exercício 2\n",
    "\n",
    "Considere o arquivo `countries_n.txt`:"
   ]
  },
  {
   "cell_type": "markdown",
   "id": "18ccf8dc-f9be-4756-9789-7d36b142c26f",
   "metadata": {},
   "source": [
    "```\n",
    "$ cat countries_n.txt \n",
    "Brunei;081\n",
    "Chile;028\n",
    "Guatemala;132\n",
    "Fiji;014\n",
    "Venezuela;174\n",
    "Argentina;040\n",
    "South Africa;141\n",
    "Suriname;053\n",
    "Malawi;073\n",
    "Palau;041\n",
    "Chad;071\n",
    "```"
   ]
  },
  {
   "cell_type": "markdown",
   "id": "23e6817b-174d-4640-aaab-7aa92fc5817c",
   "metadata": {},
   "source": [
    "Escreva um one-liner para inverter a ordem das colunas delimitadas por `;` e ordenar a exibição de acordo com os números."
   ]
  },
  {
   "cell_type": "markdown",
   "id": "d00044d9-435a-4ea0-bf9e-46b3a18af98b",
   "metadata": {},
   "source": [
    "# `sed` - stream editor"
   ]
  },
  {
   "cell_type": "markdown",
   "id": "12710266-7950-4111-890a-ebf20f125056",
   "metadata": {},
   "source": [
    "- É um editor de texto em linha de comando muito poderoso\n",
    "- Apesar de ser extremamente completo, a ideia aqui é utilizá-lo apenas para substituição de elementos de texto, usando o potencial que as expressões regulares proporcionam."
   ]
  },
  {
   "cell_type": "markdown",
   "id": "a7d04481-67ac-4e46-a13f-37457196e519",
   "metadata": {},
   "source": [
    "```\n",
    "# Comando s\n",
    "\n",
    "cat arquivo1.txt | sed 's@@@'\n",
    "```"
   ]
  },
  {
   "cell_type": "markdown",
   "id": "523575cc-d5ae-4ee2-8705-a57a0af9050c",
   "metadata": {},
   "source": [
    "![title](./sed.png)"
   ]
  },
  {
   "cell_type": "markdown",
   "id": "78d41ae5-6de1-41ef-85cf-2749a6ceea9c",
   "metadata": {},
   "source": [
    "```\n",
    "$ cat arquivo1.txt \n",
    "Guatemala\n",
    "Fiji\n",
    "Venezuela\n",
    "Argentina\n",
    "Suriname\n",
    "\n",
    "$ cat arquivo1.txt | sed 's@a@A@'  \n",
    "GuAtemala\n",
    "Fiji\n",
    "VenezuelA\n",
    "ArgentinA\n",
    "SurinAme\n",
    "```"
   ]
  },
  {
   "cell_type": "markdown",
   "id": "daf0d905-1ae7-4545-adc9-a8f3153da210",
   "metadata": {},
   "source": [
    "## Expressões regulares"
   ]
  },
  {
   "cell_type": "markdown",
   "id": "a4152a76-d58d-4d6b-b0b7-05b0391a0633",
   "metadata": {},
   "source": [
    "- Permitem \"casar\" um padrão de texto segundo diversas regras\n",
    "\n",
    "- `.*` casa qualquer caractere (`.`), em qualquer quantidade de vezes (`*`). É útil para casar com:\n",
    "  - tudo\n",
    "  - tudo que vem antes de alguma coisa\n",
    "  - tudo que vem depois de alguma coisa\n",
    "\n",
    "- `[0-9]` casa com um número\n",
    "\n",
    "- `[0-9]*` casa com sequências de números de qualquer tamanho\n",
    "\n",
    "- `[0-9]{2,3}` casa com números de 2 ou 3 dígitos"
   ]
  },
  {
   "cell_type": "markdown",
   "id": "89c54545-4e39-4768-9891-a70bcfd2b566",
   "metadata": {},
   "source": [
    "## Expressões regulares - \"retrovisor\"\n",
    "\n",
    "- `()` guarda um padrão\n",
    "- `\\1` retoma o padrão encontrado\n",
    "- `\\2`, `\\3` retomam os demais grupos (contados da esquerda para a direita e de dentro para fora)"
   ]
  },
  {
   "cell_type": "markdown",
   "id": "00a8b674-ee13-41da-8dac-ef395b66c323",
   "metadata": {},
   "source": [
    "# Exemplo 2"
   ]
  },
  {
   "cell_type": "markdown",
   "id": "fbbe599d-8aec-4600-96fb-f12e76a3093d",
   "metadata": {},
   "source": [
    "Considerando o arquivo `countries_n.txt` visto anteriormente:"
   ]
  },
  {
   "cell_type": "markdown",
   "id": "0f9b2046-683e-4290-9700-78930406de12",
   "metadata": {},
   "source": [
    "```\n",
    "$ cat countries_n.txt \n",
    "Brunei;081\n",
    "Chile;028\n",
    "Guatemala;132\n",
    "Fiji;014\n",
    "Venezuela;174\n",
    "Argentina;040\n",
    "South Africa;141\n",
    "Suriname;053\n",
    "Malawi;073\n",
    "Palau;041\n",
    "Chad;071\n",
    "```"
   ]
  },
  {
   "cell_type": "markdown",
   "id": "c6918d76-50c4-414c-9789-2dc83c45f150",
   "metadata": {},
   "source": [
    "a) Escreva um one-liner para criar diretórios com os nomes dos países.\n",
    "\n",
    "## Estratégia\n",
    "- Extrair nomes dos países\n",
    "- Escrever linhas `mkdir <nome-do-diretório>` para cada país\n",
    "- Com os comandos \"prontos\", basta fazer um pipe para o `sh` para executá-los"
   ]
  },
  {
   "cell_type": "markdown",
   "id": "125752d5-c512-407c-8047-29bb1e3a2be6",
   "metadata": {},
   "source": [
    "```\n",
    "# Extrair nomes dos países\n",
    "$ cat countries_n.txt | cut -f1 -d\";\"\n",
    "Brunei\n",
    "Chile\n",
    "Guatemala\n",
    "Fiji\n",
    "Venezuela\n",
    "Argentina\n",
    "(...)\n",
    "\n",
    "# Escrever linhas `mkdir <nome-do-diretório>` para cada país\n",
    "$ cat countries_n.txt | cut -f1 -d\";\" | sed -r 's@(.*)@mkdir \"\\1\"@'\n",
    "mkdir \"Brunei\"\n",
    "mkdir \"Chile\"\n",
    "mkdir \"Guatemala\"\n",
    "mkdir \"Fiji\"\n",
    "mkdir \"Venezuela\"\n",
    "mkdir \"Argentina\"\n",
    "(...)\n",
    "\n",
    "# Com os comandos \"prontos\", basta fazer um pipe para o `sh` para executá-los\n",
    "$ cat countries_n.txt | cut -f1 -d\";\" | sed -r 's@(.*)@mkdir \"\\1\"@' | sh\n",
    "```"
   ]
  },
  {
   "cell_type": "markdown",
   "id": "ccc88f62-00e2-4162-9796-1929e08be84e",
   "metadata": {},
   "source": [
    "b) Escreva um one-liner usandao sed e RegEx para inverter a ordem dos campos delimitados pelo `;`"
   ]
  },
  {
   "cell_type": "markdown",
   "id": "11c5eb80-5b22-450b-b958-6ddc18083162",
   "metadata": {},
   "source": [
    "```\n",
    "$ cat countries_n.txt  | sed -r 's@(.*);(.*)@\\2;\\1@'\n",
    "081;Brunei\n",
    "028;Chile\n",
    "132;Guatemala\n",
    "014;Fiji\n",
    "174;Venezuela\n",
    "040;Argentina\n",
    "141;South Africa\n",
    "053;Suriname\n",
    "073;Malawi\n",
    "041;Palau\n",
    "071;Chad\n",
    "077;Hungary\n",
    "```"
   ]
  },
  {
   "cell_type": "markdown",
   "id": "3c08ad5a-38c3-40c8-ba5a-01b7e522119b",
   "metadata": {},
   "source": [
    "# Exercício 3\n",
    "\n",
    "Criar os diretórios para cada país listado no arquivo `countries_n.txt` incluindo os números da segunda coluna, no seguinte formato:\n",
    "\n",
    "```\n",
    "000 - Djibouti\n",
    "001 - Gabon\n",
    "002 - Canada\n",
    "003 - Indonesia\n",
    "004 - Denmark\n",
    "```\n",
    "\n",
    "Dica: usar solução do exercício 2"
   ]
  },
  {
   "cell_type": "markdown",
   "id": "273024b4-b53c-4667-956d-82c711d0fa09",
   "metadata": {},
   "source": [
    "# Exercício 4"
   ]
  },
  {
   "cell_type": "markdown",
   "id": "9b458f15-aa1b-46ac-91f0-e49659883d11",
   "metadata": {},
   "source": [
    "Organize os arquivos do diretório `exerc_4` da seguinte forma:\n",
    "\n",
    "![title](./exerc_4.png)\n",
    "\n",
    "Dicas:\n",
    "- Utilize um one-liner para criar os diretórios e outro para mover os arquivos\n",
    "- Formato do comando para criar diretório: `mkdir \"1 - Brasil\"`\n",
    "- Formato do comando para mover arquivos: `mv \"Brasil55.txt\" ./1*`"
   ]
  }
 ],
 "metadata": {
  "kernelspec": {
   "display_name": "mambaforge-main",
   "language": "python",
   "name": "mambaforge-main"
  },
  "language_info": {
   "codemirror_mode": {
    "name": "ipython",
    "version": 3
   },
   "file_extension": ".py",
   "mimetype": "text/x-python",
   "name": "python",
   "nbconvert_exporter": "python",
   "pygments_lexer": "ipython3",
   "version": "3.10.12"
  }
 },
 "nbformat": 4,
 "nbformat_minor": 5
}
