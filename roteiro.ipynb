{
 "cells": [
  {
   "cell_type": "markdown",
   "id": "6735fe6c-8763-4c72-a77c-64d98f642906",
   "metadata": {},
   "source": [
    "# one-liners em shell"
   ]
  },
  {
   "cell_type": "markdown",
   "id": "a529d7f9-7cc3-4c78-be5b-e1a98705e3bd",
   "metadata": {},
   "source": [
    "- **one-liner**: Programa de uma única linha\n",
    "\n",
    "- No contexto de shell, são programas que a gente desenvolve rapidamente para concluir uma determinada tarefa. Depois de usados, são jogados fora.\n",
    "\n",
    "- São muito úteis para realizar tarefas de manipulação de arquivos e diretórios, especialmente quando combinados com conceitos de expressões regulares."
   ]
  },
  {
   "cell_type": "markdown",
   "id": "19ac935b-8423-4455-aa8e-2e9e74f00f6c",
   "metadata": {},
   "source": [
    "# Filosofia Unix"
   ]
  },
  {
   "cell_type": "markdown",
   "id": "f25cf7bb-d43d-4832-8230-da3e7bf0599b",
   "metadata": {},
   "source": [
    "Unix philosophy - Wikipedia https://en.m.wikipedia.org/wiki/Unix_philosophy\n",
    "\n",
    "- Escreva programas que façam apenas uma coisa, mas que a façam bem feita.\n",
    "- Escreva programas que trabalhem juntos.\n",
    "- Escreva programas que manipulem streams de texto, pois esta é uma interface universal.\n",
    "\n",
    "- É muito simples encadear programas:"
   ]
  },
  {
   "cell_type": "raw",
   "id": "2a36eb74-d982-44e1-9fb7-2236eb9acce0",
   "metadata": {},
   "source": [
    "$ ls\n",
    "Brasil55.txt  Espanha34.txt  Italia39.txt  Malta356.txt\n",
    "\n",
    "$ ls | wc -l                 \n",
    "4"
   ]
  },
  {
   "cell_type": "markdown",
   "id": "0bd1f96a-d455-4100-a6e5-08338eab9ed9",
   "metadata": {},
   "source": [
    "![title](./exemplo_1.png)"
   ]
  },
  {
   "cell_type": "markdown",
   "id": "aa52acd2-681d-4d8c-b8e5-d0da5768fa7e",
   "metadata": {},
   "source": [
    "<img src=\"https://github.com/renatocan/oneliners_workshop/raw/1f264462bce671d07827eaf373d6c3afd4eb053e/exemplo_1.png\" />"
   ]
  }
 ],
 "metadata": {
  "kernelspec": {
   "display_name": "mambaforge-main",
   "language": "python",
   "name": "mambaforge-main"
  },
  "language_info": {
   "codemirror_mode": {
    "name": "ipython",
    "version": 3
   },
   "file_extension": ".py",
   "mimetype": "text/x-python",
   "name": "python",
   "nbconvert_exporter": "python",
   "pygments_lexer": "ipython3",
   "version": "3.10.12"
  }
 },
 "nbformat": 4,
 "nbformat_minor": 5
}
